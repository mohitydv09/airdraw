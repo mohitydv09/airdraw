{
 "cells": [
  {
   "cell_type": "markdown",
   "metadata": {},
   "source": [
    "# This file is to play around with the dataset and get used to it."
   ]
  },
  {
   "cell_type": "markdown",
   "metadata": {},
   "source": [
    "Copy Paste this notebook : https://www.kaggle.com/code/mumuheu/explore-ouhands-datasets"
   ]
  },
  {
   "cell_type": "code",
   "execution_count": 1,
   "metadata": {},
   "outputs": [
    {
     "name": "stdout",
     "output_type": "stream",
     "text": [
      "Hello World!\n"
     ]
    }
   ],
   "source": [
    "import numpy as np\n",
    "import random\n",
    "import os \n",
    "from PIL import Image\n",
    "import matplotlib.pyplot as plt\n",
    "import matplotlib.image as mpimg\n",
    "import matplotlib.patches as patches\n",
    "from random import randint\n",
    "print(\"Done!~\")"
   ]
  },
  {
   "cell_type": "code",
   "execution_count": null,
   "metadata": {},
   "outputs": [],
   "source": [
    "root_path = \"../input/ouhands/OUHANDS_train/train\"\n",
    "image_path = os.path.join(root_path,\"hand_data/colour\")  # pic root path\n",
    "boxes_path = os.path.join(root_path,\"hand_data/bounding_box\")  # box root path \n",
    "\n",
    "# print(image_path,boxes_path)\n",
    "\n",
    "image_path_list = []\n",
    "boxes_path_list = []\n",
    "\n",
    "# put all image path in image_path_list\n",
    "for filepath in os.listdir(image_path):\n",
    "    # print(os.path.join(image_path,filepath))\n",
    "    image_path_list.append(os.path.join(image_path,filepath))\n",
    "\n",
    "# put all boxes path in boxes_path_list\n",
    "for i in image_path_list:\n",
    "    file_name = i.split(\"/\")[-1].split(\".\")[0]\n",
    "    file_path = file_name + str(\".txt\")\n",
    "    file_path = os.path.join(boxes_path, file_path)\n",
    "    boxes_path_list.append(file_path)\n",
    "   \n",
    "print(\"done!\") "
   ]
  },
  {
   "cell_type": "code",
   "execution_count": null,
   "metadata": {},
   "outputs": [],
   "source": [
    "x_data = []\n",
    "y_data = []\n",
    "\n",
    "# load picture from image_path_list then use numpy put them into x_data\n",
    "for file in image_path_list:\n",
    "    img = Image.open(str(file))\n",
    "    # img = img.resize((224,224))\n",
    "    arr = np.array(img)\n",
    "    x_data.append(arr)\n",
    "\n",
    "# load boxes from boxes_path_list then put them into y_data\n",
    "for file in boxes_path_list:\n",
    "    key = np.loadtxt(str(file), skiprows=1, dtype=None, delimiter=\" \", usecols=(0,1,2,3,4), unpack=False)\n",
    "    y_data.append(key)\n",
    "\n",
    "print(\"Done!\")"
   ]
  },
  {
   "cell_type": "code",
   "execution_count": null,
   "metadata": {},
   "outputs": [],
   "source": [
    "# show something\n",
    "def show_self(img, rect_nupmy, label):\n",
    "    plt.imshow(img)\n",
    "    plt.title(\"label:\"+str(label))\n",
    "\n",
    "    currentAxis=plt.gca()\n",
    "    rect=patches.Rectangle((rect_nupmy[0],rect_nupmy[1]),rect_nupmy[2],rect_nupmy[3],linewidth=1,edgecolor='r',facecolor='none')\n",
    "    currentAxis.add_patch(rect)\n",
    "\n",
    "    plt.show()"
   ]
  },
  {
   "cell_type": "code",
   "execution_count": null,
   "metadata": {},
   "outputs": [],
   "source": [
    "# from [a,b] select 10 picture to show\n",
    "for i in random.sample(range(1,1500), 20):\n",
    "    label = image_path_list[i].split(\"/\")[-1].split(\"-\")[0]\n",
    "    show_self(x_data[i], y_data[i], label)\n"
   ]
  }
 ],
 "metadata": {
  "kernelspec": {
   "display_name": "Python 3",
   "language": "python",
   "name": "python3"
  },
  "language_info": {
   "codemirror_mode": {
    "name": "ipython",
    "version": 3
   },
   "file_extension": ".py",
   "mimetype": "text/x-python",
   "name": "python",
   "nbconvert_exporter": "python",
   "pygments_lexer": "ipython3",
   "version": "3.11.7"
  }
 },
 "nbformat": 4,
 "nbformat_minor": 2
}
